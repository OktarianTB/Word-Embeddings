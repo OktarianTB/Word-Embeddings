{
 "cells": [
  {
   "cell_type": "markdown",
   "metadata": {
    "collapsed": true,
    "pycharm": {
     "is_executing": false
    }
   },
   "source": [
    "# Implementation of the Word2Vec Algorithm 1"
   ]
  },
  {
   "cell_type": "markdown",
   "metadata": {},
   "source": [
    "#### Resources used: [Intuitive Guide to Understanding Word2Vec - by Thushan Ganegedara](https://towardsdatascience.com/light-on-math-machine-learning-intuitive-guide-to-understanding-word2vec-e0128a460f0f)."
   ]
  },
  {
   "cell_type": "code",
   "execution_count": 34,
   "metadata": {
    "pycharm": {
     "is_executing": false
    }
   },
   "outputs": [],
   "source": [
    "import collections\n",
    "import math\n",
    "import numpy as np\n",
    "import os\n",
    "import tensorflow as tf\n",
    "from matplotlib import pylab\n",
    "from sklearn.manifold import TSNE\n",
    "import operator\n",
    "from math import ceil"
   ]
  },
  {
   "cell_type": "markdown",
   "metadata": {},
   "source": [
    "## Reading the Data"
   ]
  },
  {
   "cell_type": "markdown",
   "metadata": {},
   "source": [
    "I am using text from project gutenberg to test the algorithm."
   ]
  },
  {
   "cell_type": "code",
   "execution_count": 35,
   "metadata": {
    "pycharm": {
     "is_executing": false
    }
   },
   "outputs": [
    {
     "name": "stdout",
     "output_type": "stream",
     "text": [
      "Data size 16590\n",
      "Example words (start):  ['chapter', 'i', 'the', 'question', 'stated', '', 'the', 'first', 'thought', 'that']\n",
      "Example words (end):  ['with', 'water', 'that', 'flows', 'and', 'is', 'utilized', 'in', 'vegetation', '']\n"
     ]
    }
   ],
   "source": [
    "def preprocess_text(text):\n",
    "    \"\"\"Clean the data to make it usable later\"\"\"\n",
    "    text = text.lower()\n",
    "    text = text.replace('.',' ')\n",
    "    text = text.replace(',',' ')\n",
    "    text = text.replace('-',' ')\n",
    "    text = text.replace('%','')\n",
    "    text = text.replace(':',' ')\n",
    "    text = text.replace('(','')\n",
    "    text = text.replace(')','')\n",
    "    text = text.replace('\\n',' ')\n",
    "    text = text.replace('[',' ')\n",
    "    text = text.replace(']',' ')\n",
    "    text = text.replace('\"',' ')\n",
    "    text = text.replace('  ',' ')\n",
    "    text = text.replace('   ',' ')\n",
    "    text = text.replace('\\n', ' ')\n",
    "    return text\n",
    "\n",
    "def read_data(filename):\n",
    "    \"\"\"Extract the first file enclosed in a zip file as a list of words\"\"\"\n",
    "\n",
    "    with open(filename,'r') as f:\n",
    "        data = []\n",
    "        file_string = f.read()\n",
    "        file_string = preprocess_text(file_string)\n",
    "        file_string = file_string.split(' ')\n",
    "        data.extend(file_string)\n",
    "    return data\n",
    "  \n",
    "words = read_data('text.txt')\n",
    "print('Data size %d' % len(words))\n",
    "print('Example words (start): ',words[:10])\n",
    "print('Example words (end): ',words[-10:])"
   ]
  },
  {
   "cell_type": "code",
   "execution_count": 36,
   "metadata": {
    "pycharm": {
     "is_executing": false
    }
   },
   "outputs": [
    {
     "name": "stdout",
     "output_type": "stream",
     "text": [
      "Most common words (+UNK) [['UNK', 5418], ('the', 1421), ('of', 826), ('and', 425), ('in', 373), ('to', 357), ('a', 348), ('is', 312), ('that', 284), ('it', 230), ('as', 216), ('', 178), ('be', 147), ('we', 143), ('are', 142)]\n",
      "Sample data [0, 0, 0, 167, 0, 10, 0, 84, 0, 7, 137, 61, 0, 0, 0]\n",
      "Vocabulary size: 227\n"
     ]
    }
   ],
   "source": [
    "vocabulary_size = 0\n",
    "def build_dataset(words):\n",
    "    global vocabulary_size\n",
    "    \n",
    "    # 'UNK' indicates an unknown word and can then be used as a token to show a missing word\n",
    "    count = [['UNK', -1]]\n",
    "    \n",
    "    # Gets words sorted by frequency\n",
    "    count.extend(collections.Counter(words).most_common())\n",
    "    dictionary = dict()\n",
    "\n",
    "    # For all words that appear >= 10 times in the dataset: Create an ID for each unique word and store it in the dictionary\n",
    "    for word, c in count:\n",
    "        if c<10:\n",
    "            continue\n",
    "        dictionary[word] = len(dictionary)\n",
    "        vocabulary_size += 1\n",
    "\n",
    "    data = list()\n",
    "    unk_count = 0\n",
    "    \n",
    "    # Words that appear less than 10 times get classified as unknown, the others are classified based on their assigned ID\n",
    "    for word in words:\n",
    "        if word in dictionary:\n",
    "            index = dictionary[word]\n",
    "        else:\n",
    "            index = 0  \n",
    "            unk_count = unk_count + 1\n",
    "        data.append(index)\n",
    "\n",
    "    count[0][1] = unk_count\n",
    "    reverse_dictionary = dict(zip(dictionary.values(), dictionary.keys()))\n",
    "    \n",
    "    return data, count, dictionary, reverse_dictionary\n",
    "\n",
    "data, count, dictionary, reverse_dictionary = build_dataset(words)\n",
    "print('Most common words (+UNK)', count[:15])\n",
    "print('Sample data', data[:15])\n",
    "print('Vocabulary size:', vocabulary_size)"
   ]
  },
  {
   "cell_type": "markdown",
   "metadata": {},
   "source": [
    "## Generating the data"
   ]
  },
  {
   "cell_type": "markdown",
   "metadata": {},
   "source": [
    "<img src=\"images/data_illustration.png\" alt=\"Data\" width=\"450\"/>"
   ]
  },
  {
   "cell_type": "code",
   "execution_count": 37,
   "metadata": {
    "pycharm": {
     "is_executing": false
    }
   },
   "outputs": [
    {
     "name": "stdout",
     "output_type": "stream",
     "text": [
      "data: ['the', 'the', 'the', 'question', 'the', '', 'the', 'first']\n",
      "\n",
      "with window_size = 2:\n",
      "    batch: ['the', 'the', 'the', 'the', 'question', 'question', 'question', 'question']\n",
      "    labels: ['the', 'the', 'question', 'the', 'the', 'the', 'the', '']\n"
     ]
    }
   ],
   "source": [
    "data_index = 0\n",
    "\n",
    "def generate_batch(batch_size, window_size):\n",
    "    global data_index \n",
    "    \n",
    "    # two numpy arras to hold target words (batch)\n",
    "    # and context words (labels)\n",
    "    batch = np.ndarray(shape=(batch_size), dtype=np.int32)\n",
    "    labels = np.ndarray(shape=(batch_size, 1), dtype=np.int32)\n",
    "    \n",
    "    # span defines the total window size\n",
    "    span = 2 * window_size + 1 \n",
    "\n",
    "    # The buffer holds the data contained within the span\n",
    "    queue = collections.deque(maxlen=span)\n",
    "    # Fill the buffer and update the data_index\n",
    "    for _ in range(span):\n",
    "        queue.append(data[data_index])\n",
    "        data_index = (data_index + 1) % len(data)\n",
    "\n",
    "    for i in range(batch_size // (2*window_size)):\n",
    "        k=0\n",
    "        # Avoid the target word itself as a prediction\n",
    "        for j in list(range(window_size))+list(range(window_size+1,2*window_size+1)):\n",
    "            batch[i * (2*window_size) + k] = queue[window_size]\n",
    "            labels[i * (2*window_size) + k, 0] = queue[j]\n",
    "            k += 1 \n",
    "    \n",
    "        # Everytime we read num_samples data points, update the queue\n",
    "        queue.append(data[data_index])\n",
    "\n",
    "        # If end is reached, circle back to the beginning\n",
    "        data_index = (data_index + np.random.randint(window_size)) % len(data)\n",
    "    return batch, labels\n",
    "\n",
    "\n",
    "print('data:', [reverse_dictionary[di] for di in data[:8]])\n",
    "\n",
    "data_index = 0\n",
    "batch, labels = generate_batch(batch_size=8, window_size=2)\n",
    "print('\\nwith window_size = %d:' %2)\n",
    "print('    batch:', [reverse_dictionary[bi] for bi in batch])\n",
    "print('    labels:', [reverse_dictionary[li] for li in labels.reshape(8)])"
   ]
  },
  {
   "cell_type": "markdown",
   "metadata": {},
   "source": [
    "## Defining the Model"
   ]
  },
  {
   "cell_type": "markdown",
   "metadata": {},
   "source": [
    "##### Hyperparameters"
   ]
  },
  {
   "cell_type": "code",
   "execution_count": 38,
   "metadata": {
    "pycharm": {
     "is_executing": false
    }
   },
   "outputs": [],
   "source": [
    "batch_size = 128  # Number of data points in we process at a given time\n",
    "embedding_size = 64  # Size of a word vector\n",
    "window_size = 4  # Size of the context window\n",
    "num_sampled = 32  # Number of negative samples in the loss function"
   ]
  },
  {
   "cell_type": "markdown",
   "metadata": {},
   "source": [
    "##### TensorFlow Placeholders"
   ]
  },
  {
   "cell_type": "markdown",
   "metadata": {},
   "source": [
    "A placeholder is simply a variable that we will assign data to at a later date."
   ]
  },
  {
   "cell_type": "code",
   "execution_count": 39,
   "metadata": {
    "pycharm": {
     "is_executing": false
    }
   },
   "outputs": [],
   "source": [
    "tf.reset_default_graph()\n",
    "\n",
    "# Training input data (target word IDs). \n",
    "train_dataset = tf.placeholder(tf.int32, shape=[batch_size]) \n",
    "\n",
    "# Training input label data (context word IDs) \n",
    "train_labels = tf.placeholder(tf.int32, shape=[batch_size, 1])"
   ]
  },
  {
   "cell_type": "markdown",
   "metadata": {},
   "source": [
    "##### Model Parameters"
   ]
  },
  {
   "cell_type": "code",
   "execution_count": 40,
   "metadata": {
    "pycharm": {
     "is_executing": false
    }
   },
   "outputs": [],
   "source": [
    "# Embedding layer\n",
    "# tf.random_uniform: Outputs random values from a uniform distribution\n",
    "embeddings = tf.Variable(tf.random_uniform([vocabulary_size, embedding_size], -1.0, 1.0))\n",
    "\n",
    "# Neural network weights and biases\n",
    "softmax_weights = tf.Variable(\n",
    "    tf.truncated_normal([vocabulary_size, embedding_size],\n",
    "                        stddev=0.1 / math.sqrt(embedding_size)))\n",
    "\n",
    "softmax_biases = tf.Variable(tf.random_uniform([vocabulary_size],-0.01,0.01))"
   ]
  },
  {
   "cell_type": "markdown",
   "metadata": {},
   "source": [
    "##### Connecting the embedding layer to the neural network"
   ]
  },
  {
   "cell_type": "markdown",
   "metadata": {},
   "source": [
    "The embedding layer **stores the word vectors of all the words found in the vocabulary**. As you can imaging this is an enormous matrix (of size [vocabulary size x embedding size]). \n",
    "\n",
    "This embedding size is a user-tunable parameter. The higher it is, the better performing your model will be. But we’ll not get much of a jaw-dropping performance/size gain, beyond a certain point (say, an embedding size of 500). This gigantic matrix is initialized randomly (just like a neural network) and is tweaked bit by bit, during the optimization process, to reveal the powerful word vectors."
   ]
  },
  {
   "cell_type": "markdown",
   "metadata": {},
   "source": [
    "<img src=\"images/embedding.png\" alt=\"Embedding\" width=\"450\"/>"
   ]
  },
  {
   "cell_type": "markdown",
   "metadata": {},
   "source": [
    "During the training, the neural network takes an **input word and attempt to predict the output word**. Then using a loss function, we **penalize the model for incorrect classifications and reward the model for correct classifications**. \n",
    "\n",
    "    1) For a given input word (the target word), find the corresponding word vector from the embedding layer\n",
    "    2) Feed the word vector to the neural network, then try to predict the correct output word (a context word)\n",
    "    3) By comparing the prediction and true context word, compute the loss\n",
    "    4) Use the loss along with a stochastic optimizer to optimize the neural network and the embedding layer"
   ]
  },
  {
   "cell_type": "markdown",
   "metadata": {},
   "source": [
    "The 'tf.nn.embedding_lookup' function takes our embedding layer as the input and a set of word IDs ('train_dataset') and outputs the corresponding word vectors to the variable 'embed'."
   ]
  },
  {
   "cell_type": "code",
   "execution_count": 41,
   "metadata": {
    "pycharm": {
     "is_executing": false
    }
   },
   "outputs": [],
   "source": [
    "# Look up embeddings for a batch of inputs. \n",
    "embed = tf.nn.embedding_lookup(embeddings, train_dataset)"
   ]
  },
  {
   "cell_type": "markdown",
   "metadata": {},
   "source": [
    "##### Sampled Softmax loss function"
   ]
  },
  {
   "cell_type": "markdown",
   "metadata": {},
   "source": [
    "First, you compute the cross entropy loss between the true context word ID for a given target word and the prediction value corresponding to the true context word ID. Then to that, we add the cross entropy loss of K negative samples we sampled according to some noise distribution. On a high level, we define the loss as follows:\n",
    "<img src=\"images/loss_function.png\" alt=\"Embedding\" width=\"600\"/>\n",
    "\n",
    "The takeaway message is that, the sampled softmax loss computes the loss by considering two types of entities:\n",
    "\n",
    "    1) The index given by the true context word ID in the prediction vector (words within the context window)\n",
    "    2) K indices that indicate word IDs, and are considered to be noise (words outside the context window)\n",
    "    \n",
    "<img src=\"images/loss_fc_vis.png\" alt=\"Embedding\" width=\"600\"/>"
   ]
  },
  {
   "cell_type": "code",
   "execution_count": 42,
   "metadata": {
    "pycharm": {
     "is_executing": false
    }
   },
   "outputs": [],
   "source": [
    "loss = tf.reduce_mean(tf.nn.sampled_softmax_loss(\n",
    "    weights=softmax_weights, biases=softmax_biases, inputs=embed, \n",
    "    labels=train_labels, num_sampled=num_sampled, num_classes=vocabulary_size))"
   ]
  },
  {
   "cell_type": "markdown",
   "metadata": {},
   "source": [
    "##### Optimization"
   ]
  },
  {
   "cell_type": "markdown",
   "metadata": {},
   "source": [
    "Optimize the loss with respect to the parameters of the embeddings layer and the neural network."
   ]
  },
  {
   "cell_type": "code",
   "execution_count": 43,
   "metadata": {
    "pycharm": {
     "is_executing": false
    }
   },
   "outputs": [],
   "source": [
    "optimizer = tf.train.AdamOptimizer(0.001).minimize(loss)"
   ]
  },
  {
   "cell_type": "markdown",
   "metadata": {},
   "source": [
    "##### Evaluation"
   ]
  },
  {
   "cell_type": "markdown",
   "metadata": {},
   "source": [
    "We get the normalized embedding layer by making the vector magnitude equal to 1."
   ]
  },
  {
   "cell_type": "code",
   "execution_count": 44,
   "metadata": {
    "pycharm": {
     "is_executing": false
    }
   },
   "outputs": [],
   "source": [
    "norm = tf.sqrt(tf.reduce_sum(tf.square(embeddings), 1, keepdims=True)) \n",
    "normalized_embeddings = embeddings / norm"
   ]
  },
  {
   "cell_type": "markdown",
   "metadata": {},
   "source": [
    "##### Overview"
   ]
  },
  {
   "cell_type": "markdown",
   "metadata": {},
   "source": [
    "The following image recaps what the model does.\n",
    "<img src=\"images/overview.png\" alt=\"Embedding\" width=\"450\"/>"
   ]
  },
  {
   "cell_type": "markdown",
   "metadata": {},
   "source": [
    "# Running the Skip-Gram Model"
   ]
  },
  {
   "cell_type": "markdown",
   "metadata": {},
   "source": [
    "Our model is a Skip-Gram Model. The Skip-gram model architecture usually tries to achieve the reverse of what the CBOW model does. It tries to predict the source context words (surrounding words) given a target word (the center word)."
   ]
  },
  {
   "cell_type": "code",
   "execution_count": 45,
   "metadata": {
    "pycharm": {
     "is_executing": false
    }
   },
   "outputs": [
    {
     "name": "stdout",
     "output_type": "stream",
     "text": [
      "Initialized\n",
      "Average loss at step 5000: 2.784751\n",
      "Average loss at step 10000: 2.615921\n",
      "Average loss at step 15000: 2.593917\n",
      "Average loss at step 20000: 2.582274\n",
      "Average loss at step 25000: 2.572617\n",
      "Average loss at step 30000: 2.570806\n",
      "Average loss at step 35000: 2.555895\n",
      "Average loss at step 40000: 2.559104\n",
      "Average loss at step 45000: 2.550861\n",
      "Average loss at step 50000: 2.550648\n",
      "Average loss at step 55000: 2.550797\n",
      "Average loss at step 60000: 2.544881\n",
      "Average loss at step 65000: 2.543870\n",
      "Average loss at step 70000: 2.545227\n",
      "Average loss at step 75000: 2.550466\n",
      "Average loss at step 80000: 2.544465\n",
      "Average loss at step 85000: 2.549631\n",
      "Average loss at step 90000: 2.546803\n",
      "Average loss at step 95000: 2.542322\n",
      "Average loss at step 100000: 2.540828\n",
      "Average loss at step 105000: 2.541736\n",
      "Average loss at step 110000: 2.538438\n",
      "Average loss at step 115000: 2.540678\n",
      "Average loss at step 120000: 2.541244\n",
      "Average loss at step 125000: 2.538783\n",
      "Average loss at step 130000: 2.536252\n",
      "Average loss at step 135000: 2.536850\n",
      "Average loss at step 140000: 2.538980\n",
      "Average loss at step 145000: 2.533590\n",
      "Average loss at step 150000: 2.529061\n",
      "Average loss at step 155000: 2.539135\n",
      "Average loss at step 160000: 2.542717\n",
      "Average loss at step 165000: 2.530253\n",
      "Average loss at step 170000: 2.534034\n",
      "Average loss at step 175000: 2.533254\n",
      "Average loss at step 180000: 2.534176\n",
      "Average loss at step 185000: 2.529545\n",
      "Average loss at step 190000: 2.535014\n",
      "Average loss at step 195000: 2.533425\n",
      "Average loss at step 200000: 2.537254\n",
      "Average loss at step 205000: 2.532279\n",
      "Average loss at step 210000: 2.534282\n",
      "Average loss at step 215000: 2.537317\n",
      "Average loss at step 220000: 2.533718\n",
      "Average loss at step 225000: 2.525966\n",
      "Average loss at step 230000: 2.525833\n",
      "Average loss at step 235000: 2.526033\n",
      "Average loss at step 240000: 2.534348\n",
      "Average loss at step 245000: 2.524082\n",
      "Average loss at step 250000: 2.526764\n"
     ]
    }
   ],
   "source": [
    "num_steps = 250001 \n",
    "session = tf.InteractiveSession() \n",
    "# Initialize the variables in the graph\n",
    "tf.global_variables_initializer().run() \n",
    "print('Initialized') \n",
    "average_loss = 0\n",
    "\n",
    "for step in range(num_steps): \n",
    "    # Generate a single batch of data\n",
    "    batch_data, batch_labels = generate_batch( batch_size, window_size)\n",
    "    \n",
    "    # Optimize the embedding layer and neural network\n",
    "    # compute loss\n",
    "    feed_dict = {train_dataset : batch_data, train_labels : batch_labels}\n",
    "    _, l = session.run([optimizer, loss], feed_dict=feed_dict)\n",
    "\n",
    "    # Update the average loss variable\n",
    "    average_loss += l\n",
    "\n",
    "    if (step+1) % 5000 == 0:\n",
    "        if step > 0:\n",
    "            average_loss = average_loss / 5000\n",
    "\n",
    "        print('Average loss at step %d: %f' % (step+1, average_loss))\n",
    "        average_loss = 0\n",
    "\n",
    "sg_embeddings = normalized_embeddings.eval()\n",
    "session.close()"
   ]
  },
  {
   "cell_type": "markdown",
   "metadata": {},
   "source": [
    "## Visualize Word Vectors"
   ]
  },
  {
   "cell_type": "markdown",
   "metadata": {},
   "source": [
    "Here we visualize the word vectors by means of the t-SNE dimensionality reduction technique."
   ]
  },
  {
   "cell_type": "code",
   "execution_count": 46,
   "metadata": {
    "pycharm": {
     "is_executing": false
    }
   },
   "outputs": [],
   "source": [
    "tsne = TSNE(perplexity=5, n_components=2, init='pca', n_iter=5000)\n",
    "\n",
    "# get the T-SNE manifold\n",
    "two_d_embeddings = tsne.fit_transform(sg_embeddings)"
   ]
  },
  {
   "cell_type": "code",
   "execution_count": 47,
   "metadata": {
    "pycharm": {
     "is_executing": false
    }
   },
   "outputs": [
    {
     "data": {
      "image/png": "[encoded data removed]",
      "text/plain": [
       "<Figure size 1080x1080 with 1 Axes>"
      ]
     },
     "metadata": {
      "needs_background": "light"
     },
     "output_type": "display_data"
    }
   ],
   "source": [
    "selected_words = ['planet','mars','inhabit','the','earth','and','space', 'sun', 'water']\n",
    "\n",
    "words = [reverse_dictionary[i] for i in np.arange(vocabulary_size)]\n",
    "\n",
    "pylab.figure(figsize=(15,15))\n",
    "# plot all the embeddings and their corresponding words\n",
    "for i, label in enumerate(words):\n",
    "    x, y = two_d_embeddings[i,:]\n",
    "    pylab.scatter(x, y, c='darkgray')   \n",
    "    if label in selected_words:\n",
    "        pylab.annotate(label, xy=(x, y), xytext=(5, 2), textcoords='offset points',\n",
    "                       ha='right', va='bottom',fontsize=10)\n",
    "        \n",
    "pylab.show()"
   ]
  }
 ],
 "metadata": {
  "kernelspec": {
   "display_name": "Python 3",
   "language": "python",
   "name": "python3"
  },
  "language_info": {
   "codemirror_mode": {
    "name": "ipython",
    "version": 3
   },
   "file_extension": ".py",
   "mimetype": "text/x-python",
   "name": "python",
   "nbconvert_exporter": "python",
   "pygments_lexer": "ipython3",
   "version": "3.7.3"
  }
 },
 "nbformat": 4,
 "nbformat_minor": 1
}
